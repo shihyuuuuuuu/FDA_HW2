{
 "cells": [
  {
   "cell_type": "markdown",
   "metadata": {},
   "source": [
    "# Decision Tree Practice"
   ]
  },
  {
   "cell_type": "markdown",
   "metadata": {},
   "source": [
    "## Import packages"
   ]
  },
  {
   "cell_type": "code",
   "execution_count": 8,
   "metadata": {},
   "outputs": [],
   "source": [
    "import pandas as pd\n",
    "import numpy as np\n",
    "import random\n",
    "import csv\n",
    "from sklearn.tree import DecisionTreeClassifier"
   ]
  },
  {
   "cell_type": "markdown",
   "metadata": {},
   "source": [
    "## Data Generation\n",
    "Create data of 100 basketball teams.<br>\n",
    "Each of them has 5 attributes(affecting whether the team can make the playoffs):<br>\n",
    "- 例行賽勝率(win_rate)\n",
    "- 例行賽平均得分(win_pts)\n",
    "- 例行賽平均失分(lose_pts)\n",
    "- 例行賽平均洋將得分(foreign_pts)\n",
    "- 中華隊球員數(CT_player)"
   ]
  },
  {
   "cell_type": "code",
   "execution_count": 10,
   "metadata": {},
   "outputs": [],
   "source": [
    "def create_data(writer):\n",
    "    win_rate = round(random.uniform(0.3, 0.7), 2)\n",
    "    win_pts = round(random.uniform(80, 90), 2)\n",
    "    lose_pts = round(random.uniform(82, 90), 2)\n",
    "    foreign_pts = round(random.uniform(32, 40), 2)\n",
    "    CT_player = round(random.randint(0, 5), 2)\n",
    "    row = [win_rate, win_pts, lose_pts, foreign_pts, CT_player]\n",
    "    writer.writerow(row)\n",
    "\n",
    "with open('team.csv', 'w') as csvfile:\n",
    "    filewriter = csv.writer(csvfile, delimiter=',')\n",
    "    for i in range(100):\n",
    "        create_data(filewriter)"
   ]
  },
  {
   "cell_type": "code",
   "execution_count": null,
   "metadata": {},
   "outputs": [],
   "source": []
  }
 ],
 "metadata": {
  "kernelspec": {
   "display_name": "Python 3",
   "language": "python",
   "name": "python3"
  },
  "language_info": {
   "codemirror_mode": {
    "name": "ipython",
    "version": 3
   },
   "file_extension": ".py",
   "mimetype": "text/x-python",
   "name": "python",
   "nbconvert_exporter": "python",
   "pygments_lexer": "ipython3",
   "version": "3.6.7"
  }
 },
 "nbformat": 4,
 "nbformat_minor": 2
}
