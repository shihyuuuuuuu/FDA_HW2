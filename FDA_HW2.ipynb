{
 "cells": [
  {
   "cell_type": "markdown",
   "metadata": {},
   "source": [
    "# Decision Tree Practice"
   ]
  },
  {
   "cell_type": "markdown",
   "metadata": {},
   "source": [
    "## Import packages"
   ]
  },
  {
   "cell_type": "code",
   "execution_count": 1,
   "metadata": {},
   "outputs": [],
   "source": [
    "import pandas as pd\n",
    "import numpy as np\n",
    "import random\n",
    "import csv\n",
    "from sklearn.tree import DecisionTreeClassifier\n",
    "from sklearn.tree import export_graphviz\n",
    "import pydotplus\n",
    "from sklearn.externals.six import StringIO   "
   ]
  },
  {
   "cell_type": "markdown",
   "metadata": {},
   "source": [
    "## Data Generation\n",
    "Create data of 100 basketball teams.<br>\n",
    "Each of them has 5 attributes(affecting whether the team can make the playoffs):<br>\n",
    "- 例行賽勝率(win_rate)\n",
    "- 例行賽平均得分(win_pts)\n",
    "- 例行賽平均失分(lose_pts)\n",
    "- 例行賽平均洋將得分(foreign_pts)\n",
    "- 中華隊球員數(CT_player)"
   ]
  },
  {
   "cell_type": "markdown",
   "metadata": {},
   "source": [
    "## Data Rules\n",
    "！[Rules](57364707_2137257826565002_2895220484817813504_n.jpg)"
   ]
  },
  {
   "cell_type": "code",
   "execution_count": 2,
   "metadata": {},
   "outputs": [],
   "source": [
    "def enter_playoff(data):\n",
    "    if data[0] > 0.6:\n",
    "        if data[1] > 85:\n",
    "            if data[2] < 80:\n",
    "                return 1\n",
    "            elif data[3] > 35:\n",
    "                return 1\n",
    "            else:\n",
    "                return 0\n",
    "        elif data[2] < 80:\n",
    "            if data[3] > 40:\n",
    "                return 1\n",
    "            else:\n",
    "                return 0\n",
    "        else:\n",
    "            return 0\n",
    "    elif data[2] < 83:\n",
    "        if data[3] > 30:\n",
    "            if data[4] > 3:\n",
    "                return 1\n",
    "            else:\n",
    "                return 0\n",
    "        else:\n",
    "            return 0\n",
    "    else:\n",
    "        return 0\n",
    "\n",
    "def create_data(writer):\n",
    "    win_rate = round(random.uniform(0.3, 0.7), 2)\n",
    "    win_pts = round(random.uniform(80, 90), 2)\n",
    "    lose_pts = round(random.uniform(82, 90), 2)\n",
    "    foreign_pts = round(random.uniform(25, 45), 2)\n",
    "    CT_player = round(random.randint(0, 5), 2)\n",
    "    row = [win_rate, win_pts, lose_pts, foreign_pts, CT_player]\n",
    "    enter = enter_playoff(row)\n",
    "    row.append(enter)\n",
    "    writer.writerow(row)\n",
    "\n",
    "with open('team.csv', 'w') as csvfile:\n",
    "    filewriter = csv.writer(csvfile, delimiter=',')\n",
    "    filewriter.writerow(['勝率', '得分', '失分', '洋將得分', '中華隊球員', '進季後賽'])\n",
    "    for i in range(1000):\n",
    "        create_data(filewriter)"
   ]
  },
  {
   "cell_type": "code",
   "execution_count": 3,
   "metadata": {},
   "outputs": [
    {
     "data": {
      "text/html": [
       "<div>\n",
       "<style scoped>\n",
       "    .dataframe tbody tr th:only-of-type {\n",
       "        vertical-align: middle;\n",
       "    }\n",
       "\n",
       "    .dataframe tbody tr th {\n",
       "        vertical-align: top;\n",
       "    }\n",
       "\n",
       "    .dataframe thead th {\n",
       "        text-align: right;\n",
       "    }\n",
       "</style>\n",
       "<table border=\"1\" class=\"dataframe\">\n",
       "  <thead>\n",
       "    <tr style=\"text-align: right;\">\n",
       "      <th></th>\n",
       "      <th>勝率</th>\n",
       "      <th>得分</th>\n",
       "      <th>失分</th>\n",
       "      <th>洋將得分</th>\n",
       "      <th>中華隊球員</th>\n",
       "      <th>進季後賽</th>\n",
       "    </tr>\n",
       "  </thead>\n",
       "  <tbody>\n",
       "    <tr>\n",
       "      <th>0</th>\n",
       "      <td>0.49</td>\n",
       "      <td>82.78</td>\n",
       "      <td>82.69</td>\n",
       "      <td>26.29</td>\n",
       "      <td>5</td>\n",
       "      <td>0</td>\n",
       "    </tr>\n",
       "    <tr>\n",
       "      <th>1</th>\n",
       "      <td>0.52</td>\n",
       "      <td>85.13</td>\n",
       "      <td>83.99</td>\n",
       "      <td>25.08</td>\n",
       "      <td>3</td>\n",
       "      <td>0</td>\n",
       "    </tr>\n",
       "    <tr>\n",
       "      <th>2</th>\n",
       "      <td>0.46</td>\n",
       "      <td>84.36</td>\n",
       "      <td>85.95</td>\n",
       "      <td>33.38</td>\n",
       "      <td>0</td>\n",
       "      <td>0</td>\n",
       "    </tr>\n",
       "    <tr>\n",
       "      <th>3</th>\n",
       "      <td>0.61</td>\n",
       "      <td>81.46</td>\n",
       "      <td>87.45</td>\n",
       "      <td>31.62</td>\n",
       "      <td>0</td>\n",
       "      <td>0</td>\n",
       "    </tr>\n",
       "    <tr>\n",
       "      <th>4</th>\n",
       "      <td>0.46</td>\n",
       "      <td>88.64</td>\n",
       "      <td>86.87</td>\n",
       "      <td>41.62</td>\n",
       "      <td>1</td>\n",
       "      <td>0</td>\n",
       "    </tr>\n",
       "  </tbody>\n",
       "</table>\n",
       "</div>"
      ],
      "text/plain": [
       "     勝率     得分     失分   洋將得分  中華隊球員  進季後賽\n",
       "0  0.49  82.78  82.69  26.29      5     0\n",
       "1  0.52  85.13  83.99  25.08      3     0\n",
       "2  0.46  84.36  85.95  33.38      0     0\n",
       "3  0.61  81.46  87.45  31.62      0     0\n",
       "4  0.46  88.64  86.87  41.62      1     0"
      ]
     },
     "execution_count": 3,
     "metadata": {},
     "output_type": "execute_result"
    }
   ],
   "source": [
    "data = pd.read_csv('team.csv')\n",
    "data.head()"
   ]
  },
  {
   "cell_type": "code",
   "execution_count": 4,
   "metadata": {},
   "outputs": [],
   "source": [
    "answer = data['進季後賽'].values\n",
    "data = data.drop('進季後賽', 1)"
   ]
  },
  {
   "cell_type": "code",
   "execution_count": 5,
   "metadata": {},
   "outputs": [],
   "source": [
    "train_x = data[:700]\n",
    "test_x = data[700:]\n",
    "train_y = answer[:700]\n",
    "test_y = answer[700:]"
   ]
  },
  {
   "cell_type": "code",
   "execution_count": 6,
   "metadata": {},
   "outputs": [
    {
     "data": {
      "text/plain": [
       "True"
      ]
     },
     "execution_count": 6,
     "metadata": {},
     "output_type": "execute_result"
    }
   ],
   "source": [
    "dtree=DecisionTreeClassifier(max_depth=4)\n",
    "dtree.fit(train_x,train_y)\n",
    "\n",
    "dot_data = StringIO()\n",
    "export_graphviz(dtree, \n",
    "                out_file=dot_data,  \n",
    "                filled=True, \n",
    "                feature_names=list(data),\n",
    "                class_names=['Not Enter','Enter'],\n",
    "                special_characters=True)\n",
    "\n",
    "graph = pydotplus.graph_from_dot_data(dot_data.getvalue())  \n",
    "graph.write_pdf(\"tree.pdf\")"
   ]
  },
  {
   "cell_type": "code",
   "execution_count": 7,
   "metadata": {},
   "outputs": [],
   "source": [
    "y_predict = dtree.predict(test_x)"
   ]
  },
  {
   "cell_type": "code",
   "execution_count": 8,
   "metadata": {},
   "outputs": [
    {
     "data": {
      "text/plain": [
       "0.9933333333333333"
      ]
     },
     "execution_count": 8,
     "metadata": {},
     "output_type": "execute_result"
    }
   ],
   "source": [
    "from sklearn.metrics import accuracy_score\n",
    "\n",
    "accuracy_score(test_y, y_predict)"
   ]
  }
 ],
 "metadata": {
  "kernelspec": {
   "display_name": "Python 3",
   "language": "python",
   "name": "python3"
  },
  "language_info": {
   "codemirror_mode": {
    "name": "ipython",
    "version": 3
   },
   "file_extension": ".py",
   "mimetype": "text/x-python",
   "name": "python",
   "nbconvert_exporter": "python",
   "pygments_lexer": "ipython3",
   "version": "3.6.7"
  }
 },
 "nbformat": 4,
 "nbformat_minor": 2
}
